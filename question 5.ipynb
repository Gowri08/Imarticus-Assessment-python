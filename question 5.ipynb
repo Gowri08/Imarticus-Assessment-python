{
 "cells": [
  {
   "cell_type": "code",
   "execution_count": 16,
   "id": "a8899394",
   "metadata": {},
   "outputs": [
    {
     "name": "stdout",
     "output_type": "stream",
     "text": [
      "{'John': 7.44, 'Shelly': 10.75, 'Marry': 5.79}\n"
     ]
    }
   ],
   "source": [
    "WeightOnEarth={'John':45,'Shelly':65,'Marry':35}\n",
    "keys=list(WeightOnEarth.keys())\n",
    "GMoon=1.622\n",
    "GEarth=9.81\n",
    "wmoon=list(map(lambda x:round((WeightOnEarth[x]*GMoon)/GEarth,2),keys))\n",
    "WeightOnMoon={}\n",
    "for i in range(len(keys)):\n",
    "    WeightOnMoon[keys[i]]=wmoon[i]\n",
    "    \n",
    "print(WeightOnMoon)"
   ]
  },
  {
   "cell_type": "code",
   "execution_count": null,
   "id": "d08cb4ba",
   "metadata": {},
   "outputs": [],
   "source": []
  }
 ],
 "metadata": {
  "kernelspec": {
   "display_name": "Python 3 (ipykernel)",
   "language": "python",
   "name": "python3"
  },
  "language_info": {
   "codemirror_mode": {
    "name": "ipython",
    "version": 3
   },
   "file_extension": ".py",
   "mimetype": "text/x-python",
   "name": "python",
   "nbconvert_exporter": "python",
   "pygments_lexer": "ipython3",
   "version": "3.9.7"
  }
 },
 "nbformat": 4,
 "nbformat_minor": 5
}
