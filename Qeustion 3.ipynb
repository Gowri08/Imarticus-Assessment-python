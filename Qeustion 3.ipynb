{
 "cells": [
  {
   "cell_type": "code",
   "execution_count": 10,
   "id": "2c1636c1",
   "metadata": {},
   "outputs": [
    {
     "name": "stdout",
     "output_type": "stream",
     "text": [
      "Sour Fruits : ['Lemon', 'Grapes', 'Kiwi', 'Orange', 'Limes']\n"
     ]
    }
   ],
   "source": [
    "fruits=(('Lemon','sour'),\n",
    "        ('DragonFruit','Sweet'),\n",
    "        ('Grapes','soUr'),\n",
    "        ('Kiwi','Sour'),\n",
    "        ('Apples','sweet'),\n",
    "        ('Orange','sour'),\n",
    "        ('Blueberries','sweet'),\n",
    "        ('Limes','Sour'))\n",
    "fruits=list(fruits)\n",
    "sourfruits=[]\n",
    "for i in fruits:\n",
    "        if i[1].lower()==\"sour\":\n",
    "            sourfruits.append(i[0])\n",
    "\n",
    "print(\"Sour Fruits :\",sourfruits)\n",
    "            \n",
    "            "
   ]
  },
  {
   "cell_type": "code",
   "execution_count": null,
   "id": "df373e79",
   "metadata": {},
   "outputs": [],
   "source": []
  }
 ],
 "metadata": {
  "kernelspec": {
   "display_name": "Python 3 (ipykernel)",
   "language": "python",
   "name": "python3"
  },
  "language_info": {
   "codemirror_mode": {
    "name": "ipython",
    "version": 3
   },
   "file_extension": ".py",
   "mimetype": "text/x-python",
   "name": "python",
   "nbconvert_exporter": "python",
   "pygments_lexer": "ipython3",
   "version": "3.9.7"
  }
 },
 "nbformat": 4,
 "nbformat_minor": 5
}
