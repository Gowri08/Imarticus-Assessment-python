{
 "cells": [
  {
   "cell_type": "code",
   "execution_count": 6,
   "id": "6dfee4f2",
   "metadata": {},
   "outputs": [
    {
     "name": "stdout",
     "output_type": "stream",
     "text": [
      "Value to sqaure2\n",
      "Value to Cube2\n",
      "Value to sqaureroot4\n",
      "The sum of values =  14.0\n"
     ]
    }
   ],
   "source": [
    "import math\n",
    "dic={'Square':lambda a:a*a,'Cube':lambda a:a*a*a,'squareroot':lambda a:math.sqrt(a)}\n",
    "x=int(input(\"Value to sqaure\"))\n",
    "y=int(input(\"Value to Cube\"))\n",
    "z=int(input(\"Value to sqaureroot\"))\n",
    "sum=dic['Square'](x)\n",
    "sum+=dic['Cube'](y)\n",
    "sum+=dic['squareroot'](z)\n",
    "print(\"The sum of values = \",sum)"
   ]
  },
  {
   "cell_type": "code",
   "execution_count": null,
   "id": "6e2015cf",
   "metadata": {},
   "outputs": [],
   "source": []
  }
 ],
 "metadata": {
  "kernelspec": {
   "display_name": "Python 3 (ipykernel)",
   "language": "python",
   "name": "python3"
  },
  "language_info": {
   "codemirror_mode": {
    "name": "ipython",
    "version": 3
   },
   "file_extension": ".py",
   "mimetype": "text/x-python",
   "name": "python",
   "nbconvert_exporter": "python",
   "pygments_lexer": "ipython3",
   "version": "3.9.7"
  }
 },
 "nbformat": 4,
 "nbformat_minor": 5
}
