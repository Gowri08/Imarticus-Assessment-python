{
 "cells": [
  {
   "cell_type": "code",
   "execution_count": 12,
   "id": "a6bec4f3",
   "metadata": {},
   "outputs": [
    {
     "name": "stdout",
     "output_type": "stream",
     "text": [
      "__Positive Comments__\n",
      "\n",
      "He is a good boy\n",
      "He is an awesome player\n",
      "She is the best\n",
      "These burgers are really nice\n",
      "\n",
      "__Negative Comments__\n",
      "\n",
      "Food is the worst here\n",
      "This pizza tastes awful\n"
     ]
    }
   ],
   "source": [
    "positive=['good','awesome','best','nice']\n",
    "negative=['worst','awful']\n",
    "comments=['He is a good boy',\n",
    "        'Food is the worst here',\n",
    "        'He is an awesome player',\n",
    "        'She is the best',\n",
    "        'This pizza tastes awful',\n",
    "        'These burgers are really nice']\n",
    "positive_comments=[]\n",
    "negative_comments=[]\n",
    "for i in comments:\n",
    "    for j in positive:\n",
    "        if j in i:\n",
    "            positive_comments.append(i)\n",
    "    for j in negative:\n",
    "        if j in i:\n",
    "            negative_comments.append(i)\n",
    "print(\"__Positive Comments__\")\n",
    "print()\n",
    "for i in positive_comments:\n",
    "     print(i)\n",
    "print()\n",
    "print(\"__Negative Comments__\")\n",
    "print()\n",
    "for i in negative_comments:\n",
    "     print(i)"
   ]
  },
  {
   "cell_type": "code",
   "execution_count": null,
   "id": "91f82aca",
   "metadata": {},
   "outputs": [],
   "source": []
  }
 ],
 "metadata": {
  "kernelspec": {
   "display_name": "Python 3 (ipykernel)",
   "language": "python",
   "name": "python3"
  },
  "language_info": {
   "codemirror_mode": {
    "name": "ipython",
    "version": 3
   },
   "file_extension": ".py",
   "mimetype": "text/x-python",
   "name": "python",
   "nbconvert_exporter": "python",
   "pygments_lexer": "ipython3",
   "version": "3.9.7"
  }
 },
 "nbformat": 4,
 "nbformat_minor": 5
}
